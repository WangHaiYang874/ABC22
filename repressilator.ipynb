{
 "cells": [
  {
   "cell_type": "code",
   "execution_count": 2,
   "metadata": {},
   "outputs": [
    {
     "ename": "ImportError",
     "evalue": "cannot import name 'repressilator' from 'models' (/mnt/c/Users/haiya/proj/ABC22/src/models.py)",
     "output_type": "error",
     "traceback": [
      "\u001b[0;31m---------------------------------------------------------------------------\u001b[0m",
      "\u001b[0;31mImportError\u001b[0m                               Traceback (most recent call last)",
      "\u001b[1;32m/mnt/c/Users/haiya/proj/ABC22/repressilator.ipynb Cell 1\u001b[0m in \u001b[0;36m<cell line: 7>\u001b[0;34m()\u001b[0m\n\u001b[1;32m      <a href='vscode-notebook-cell://wsl%2Bubuntu-20.04/mnt/c/Users/haiya/proj/ABC22/repressilator.ipynb#ch0000000vscode-remote?line=2'>3</a>\u001b[0m \u001b[39mimport\u001b[39;00m \u001b[39msys\u001b[39;00m\n\u001b[1;32m      <a href='vscode-notebook-cell://wsl%2Bubuntu-20.04/mnt/c/Users/haiya/proj/ABC22/repressilator.ipynb#ch0000000vscode-remote?line=4'>5</a>\u001b[0m sys\u001b[39m.\u001b[39mpath\u001b[39m.\u001b[39minsert(\u001b[39m0\u001b[39m,\u001b[39m'\u001b[39m\u001b[39m./src/\u001b[39m\u001b[39m'\u001b[39m)\n\u001b[0;32m----> <a href='vscode-notebook-cell://wsl%2Bubuntu-20.04/mnt/c/Users/haiya/proj/ABC22/repressilator.ipynb#ch0000000vscode-remote?line=6'>7</a>\u001b[0m \u001b[39mfrom\u001b[39;00m \u001b[39mmodels\u001b[39;00m \u001b[39mimport\u001b[39;00m repressilator\n",
      "\u001b[0;31mImportError\u001b[0m: cannot import name 'repressilator' from 'models' (/mnt/c/Users/haiya/proj/ABC22/src/models.py)"
     ]
    }
   ],
   "source": [
    "import numpy as np\n",
    "from matplotlib import pyplot as plt\n",
    "import sys\n",
    "\n",
    "sys.path.insert(0,'./src/')\n",
    "\n",
    "from models import repressilator"
   ]
  },
  {
   "cell_type": "markdown",
   "metadata": {},
   "source": [
    "# model spec\n",
    "- genes $G_1,G_2,G_3$\n",
    "- mRNA $M_i$\n",
    "- protein $P_i$\n",
    "\n",
    "$$\n",
    "G_i \\to \\xrightarrow{\\alpha_0 + \\alpha K^n/(K^n+P_j^n)} M_i, \\quad M_i \\xrightarrow{\\beta} M_i + P_i, \\quad P_i \\xrightarrow{\\beta} \\empty, \\quad M_i\\xrightarrow{\\gamma} \\empty\n",
    "$$\n",
    "where $j = i-1 \\mod 3$"
   ]
  },
  {
   "cell_type": "code",
   "execution_count": 3,
   "metadata": {},
   "outputs": [
    {
     "data": {
      "text/plain": [
       "(array([4, 5, 5]), array([ 7, 16,  2]))"
      ]
     },
     "execution_count": 3,
     "metadata": {},
     "output_type": "execute_result"
    }
   ],
   "source": [
    "M = np.random.randint(1,20,3)\n",
    "P = np.random.randint(1,20,3)\n",
    "M,P"
   ]
  },
  {
   "cell_type": "code",
   "execution_count": null,
   "metadata": {},
   "outputs": [],
   "source": []
  },
  {
   "cell_type": "code",
   "execution_count": 4,
   "metadata": {},
   "outputs": [],
   "source": [
    "beta = 0.1\n",
    "gamma = 0.1\n",
    "alpha0 = 0.01\n",
    "n = 4\n",
    "alpha = 0.1\n",
    "K = 5\n",
    "\n",
    "\n",
    "propensity1 = alpha0 + alpha*K**n / (K**n + np.roll(P,1)**n)"
   ]
  },
  {
   "cell_type": "code",
   "execution_count": 7,
   "metadata": {},
   "outputs": [
    {
     "ename": "SyntaxError",
     "evalue": "invalid syntax (1184300388.py, line 19)",
     "output_type": "error",
     "traceback": [
      "\u001b[0;36m  Input \u001b[0;32mIn [7]\u001b[0;36m\u001b[0m\n\u001b[0;31m    ({},'M1':1),\u001b[0m\n\u001b[0m            ^\u001b[0m\n\u001b[0;31mSyntaxError\u001b[0m\u001b[0;31m:\u001b[0m invalid syntax\n"
     ]
    }
   ],
   "source": [
    "class Repressilator:\n",
    "    '''\n",
    "    see the paper \"Multiﬁdelity multilevel Monte Carlo to accelerate approximate Bayesian parameter inference for partially observed stochastic processes\"\n",
    "    for a description of Repressilator. \n",
    "    '''\n",
    "    def __init__(self, initial_population,  leakage_transcription_rate, free_transcription_rate, Hill_coefficient, excluding_leakage, protein_translation_and_degradation_rate, mRNA_degradation_rate):\n",
    "        \n",
    "        self.X = initial_population\n",
    "        self.alpha0 = leakage_transcription_rate\n",
    "        self.alpha = free_transcription_rate - leakage_transcription_rate\n",
    "        self.n = Hill_coefficient\n",
    "        self.K = excluding_leakage\n",
    "        self.beta = protein_translation_and_degradation_rate\n",
    "        self.gamma = mRNA_degradation_rate\n",
    "        \n",
    "        self.chemicals = 'M1 M2 M3 P1 P2 P3'\n",
    "        \n",
    "        self.reactions = [\n",
    "            ({},            {'M1':1}),\n",
    "            ({},            {'M2':1}),\n",
    "            ({},            {'M3':1}),\n",
    "            ({'M1':1},      {'M1':1,'P1':1}),\n",
    "            ({'M2':1},      {'M2':1,'P2':1}),\n",
    "            ({'M3':1},      {'M3':1,'P3':1}),\n",
    "            ({'P1':0},      {}),\n",
    "            ({'P2':0},      {}),\n",
    "            ({'P3':0},      {}),\n",
    "            ({'M1':0},      {}),\n",
    "            ({'M2':0},      {}),\n",
    "            ({'M3':0},      {}),\n",
    "        ]\n",
    "    \n",
    "    def reaction_rates(self, X, theta = None):\n",
    "        \n",
    "            \n",
    "            \n",
    "        "
   ]
  }
 ],
 "metadata": {
  "kernelspec": {
   "display_name": "Python 3.10.5 ('mcmc')",
   "language": "python",
   "name": "python3"
  },
  "language_info": {
   "codemirror_mode": {
    "name": "ipython",
    "version": 3
   },
   "file_extension": ".py",
   "mimetype": "text/x-python",
   "name": "python",
   "nbconvert_exporter": "python",
   "pygments_lexer": "ipython3",
   "version": "3.10.5"
  },
  "orig_nbformat": 4,
  "vscode": {
   "interpreter": {
    "hash": "78a815b9fc28189f8c9dfe5b15a76bcbb25a18275e90aaccf7afed89a3f1752e"
   }
  }
 },
 "nbformat": 4,
 "nbformat_minor": 2
}
