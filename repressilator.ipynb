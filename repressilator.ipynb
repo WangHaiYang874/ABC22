{
 "cells": [
  {
   "cell_type": "code",
   "execution_count": 1,
   "metadata": {},
   "outputs": [],
   "source": [
    "import numpy as np\n",
    "from matplotlib import pyplot as plt"
   ]
  },
  {
   "cell_type": "markdown",
   "metadata": {},
   "source": [
    "# model spec\n",
    "- genes $G_1,G_2,G_3$\n",
    "- mRNA $M_i$\n",
    "- protein $P_i$\n",
    "\n",
    "$$\n",
    "G_i \\to \\xrightarrow{\\alpha_0 + \\alpha K^n/(K^n+P_j^n)} M_i, \\quad M_i \\xrightarrow{\\beta} M_i + P_i, \\quad P_i \\xrightarrow{\\beta} \\empty, \\quad M_i\\xrightarrow{\\gamma} \\empty\n",
    "$$\n",
    "where $j = i-1 \\mod 3$"
   ]
  },
  {
   "cell_type": "code",
   "execution_count": 7,
   "metadata": {},
   "outputs": [
    {
     "ename": "SyntaxError",
     "evalue": "invalid syntax (1184300388.py, line 19)",
     "output_type": "error",
     "traceback": [
      "\u001b[0;36m  Input \u001b[0;32mIn [7]\u001b[0;36m\u001b[0m\n\u001b[0;31m    ({},'M1':1),\u001b[0m\n\u001b[0m            ^\u001b[0m\n\u001b[0;31mSyntaxError\u001b[0m\u001b[0;31m:\u001b[0m invalid syntax\n"
     ]
    }
   ],
   "source": [
    "class Repressilator:\n",
    "    '''\n",
    "    see the paper \"Multiﬁdelity multilevel Monte Carlo to accelerate approximate Bayesian parameter inference for partially observed stochastic processes\"\n",
    "    for a description of Repressilator. \n",
    "    '''\n",
    "    def __init__(self, initial_population,  leakage_transcription_rate, free_transcription_rate, Hill_coefficient, excluding_leakage, protein_translation_and_degradation_rate, mRNA_degradation_rate):\n",
    "        \n",
    "        self.X = initial_population\n",
    "        self.alpha0 = leakage_transcription_rate\n",
    "        self.alpha = free_transcription_rate - leakage_transcription_rate\n",
    "        self.n = Hill_coefficient\n",
    "        self.K = excluding_leakage\n",
    "        self.beta = protein_translation_and_degradation_rate\n",
    "        self.gamma = mRNA_degradation_rate\n",
    "        \n",
    "        self.chemicals = 'M1 M2 M3 P1 P2 P3'\n",
    "        \n",
    "        self.reactions = [\n",
    "            ({},            {'M1':1}),\n",
    "            ({},            {'M2':1}),\n",
    "            ({},            {'M3':1}),\n",
    "            ({'M1':1},      {'M1':1,'P1':1}),\n",
    "            ({'M2':1},      {'M2':1,'P2':1}),\n",
    "            ({'M3':1},      {'M3':1,'P3':1}),\n",
    "            ({'P1':0},      {}),\n",
    "            ({'P2':0},      {}),\n",
    "            ({'P3':0},      {}),\n",
    "            ({'M1':0},      {}),\n",
    "            ({'M2':0},      {}),\n",
    "            ({'M3':0},      {}),\n",
    "        ]\n",
    "    \n",
    "    def reaction_rates(self, X, theta = None):\n",
    "        \n",
    "            \n",
    "            \n",
    "        "
   ]
  }
 ],
 "metadata": {
  "kernelspec": {
   "display_name": "Python 3.10.4 ('mcmc')",
   "language": "python",
   "name": "python3"
  },
  "language_info": {
   "codemirror_mode": {
    "name": "ipython",
    "version": 3
   },
   "file_extension": ".py",
   "mimetype": "text/x-python",
   "name": "python",
   "nbconvert_exporter": "python",
   "pygments_lexer": "ipython3",
   "version": "3.10.4"
  },
  "orig_nbformat": 4,
  "vscode": {
   "interpreter": {
    "hash": "4ef73ebb8c6bf4417ef67e5e59e1d5056975f98c8de7a8fed064bf6fc2f47c64"
   }
  }
 },
 "nbformat": 4,
 "nbformat_minor": 2
}
