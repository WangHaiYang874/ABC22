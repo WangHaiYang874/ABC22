{
 "cells": [
  {
   "cell_type": "code",
   "execution_count": 1,
   "id": "a2adfcb3-f943-4ff1-914d-1687460a00b6",
   "metadata": {},
   "outputs": [],
   "source": [
    "import numpy as np\n",
    "from copy import deepcopy\n",
    "import pandas as pd"
   ]
  },
  {
   "cell_type": "code",
   "execution_count": 2,
   "id": "2c257228-43cb-498c-a6b5-71496b4b938a",
   "metadata": {},
   "outputs": [],
   "source": [
    "import time"
   ]
  },
  {
   "cell_type": "code",
   "execution_count": 3,
   "id": "c5845be5-6617-41cb-9a31-413800028f03",
   "metadata": {},
   "outputs": [],
   "source": [
    "# helper function \n",
    "def product(a,b):\n",
    "    if a == 0:\n",
    "        return 1\n",
    "    if b < a:\n",
    "        return 0\n",
    "    return np.product(np.arange(b-a+1,b+1,1))"
   ]
  },
  {
   "cell_type": "markdown",
   "id": "f07ef55e-0abc-4da1-8f33-0b46b0d0f713",
   "metadata": {},
   "source": [
    "## $\\tau$-leaping for a simple chemical process\n"
   ]
  },
  {
   "cell_type": "markdown",
   "id": "d1b879fd-ac95-43e2-8406-1593d77e117e",
   "metadata": {},
   "source": [
    "this file is the code for the $\\tau$-leaping algorithm applied to a very simple chemical process. \n",
    "\n",
    "There are two populations\n",
    "- $x_1$: the number of $O_2$ molucules\n",
    "- $x_2$: the number of $O$ molucules\n",
    "\n",
    "And there are two chemical reactions:\n",
    "- **binding**: $O+O \\to O_2$, with reaction rate $k_+(x_2)(x_2-1)$\n",
    "- **breaking**: $O_2 \\to O+O$, with reaction rate $k_-x_1$\n",
    "\n"
   ]
  },
  {
   "cell_type": "markdown",
   "id": "793ddbd8-ff00-45b5-81a0-512ca981e455",
   "metadata": {},
   "source": [
    "## algorithm"
   ]
  },
  {
   "cell_type": "code",
   "execution_count": 4,
   "id": "22e86cf5-9f6b-47cb-bc01-5a4751689287",
   "metadata": {},
   "outputs": [],
   "source": [
    "# compounds should be a dictionary, \n",
    "#     key = name of the compound, \n",
    "#     val = quantity of the counpound. \n",
    "\n",
    "class reaction:\n",
    "    def __init__(self,input_compounds, output_compounds, reaction_rate):\n",
    "        \n",
    "        self.input = input_compounds\n",
    "        self.output = output_compounds\n",
    "        self.rr = reaction_rate\n",
    "    \n",
    "    def proba(self,i):\n",
    "        return self.rr * np.product([product(self.input[key],i[key]) for key in self.input])\n",
    "    \n",
    "class chemical_system:\n",
    "    \n",
    "    def __init__(self, chemicals, reactions):\n",
    "        \n",
    "        self.chemicals = deepcopy(chemicals)\n",
    "        self.reactions = reactions\n",
    "    \n",
    "    def tau_leaping(self,tau):\n",
    "        \n",
    "        change = {key:0 for key in self.chemicals}\n",
    "        # print(self.chemicals)\n",
    "        \n",
    "        for reaction in self.reactions:\n",
    "            \n",
    "            event_count = np.random.poisson(reaction.proba(self.chemicals)*tau) \n",
    "            # print(event_count)\n",
    "            for key in self.chemicals:\n",
    "                change[key] -= reaction.input[key]*event_count\n",
    "                change[key] += reaction.output[key]*event_count\n",
    "                \n",
    "        for key in self.chemicals:\n",
    "            self.chemicals[key] += change[key]\n",
    "        \n",
    "        for v in self.chemicals.values():\n",
    "            if v < 0:\n",
    "                print('negative chemical quantity')\n",
    "                assert(False)\n",
    "        # print()\n",
    "        \n",
    "    def tau_simulation(self,tau, T, record=False):\n",
    "            \n",
    "        t = 0\n",
    "        \n",
    "        if record:\n",
    "            records = {t:deepcopy(self.chemicals)}\n",
    "        \n",
    "        while t + tau <= T:\n",
    "            self.tau_leaping(tau)\n",
    "            t += tau\n",
    "            if record:\n",
    "                records[t] = deepcopy(self.chemicals)\n",
    "        if record:\n",
    "            return pd.DataFrame(data=records)"
   ]
  },
  {
   "cell_type": "markdown",
   "id": "18be5633-05e1-4608-9b6a-3387ce4902e6",
   "metadata": {},
   "source": [
    "## setting parameter of the model"
   ]
  },
  {
   "cell_type": "code",
   "execution_count": 5,
   "id": "04657ac2-f690-4a25-924d-d4a58cccbc92",
   "metadata": {},
   "outputs": [],
   "source": [
    "chemicals = {\n",
    "    \"O_2\":5000,\n",
    "    \"O\": 4000\n",
    "    }\n",
    "\n",
    "binding = reaction(\n",
    "    input_compounds={'O':2, 'O_2':0},\n",
    "    output_compounds={'O':0, 'O_2':1},\n",
    "    reaction_rate = .0004\n",
    ")\n",
    "\n",
    "breaking = reaction(\n",
    "    input_compounds={'O':0, 'O_2':1},\n",
    "    output_compounds={'O':2, 'O_2':0},\n",
    "    reaction_rate = .2\n",
    ")\n",
    "\n",
    "reactions = [binding, breaking]\n",
    "\n",
    "Ts = [1,2]\n",
    "\n",
    "def init_chemical_system():\n",
    "    return chemical_system(chemicals,reactions)"
   ]
  },
  {
   "cell_type": "markdown",
   "id": "6d7dd279-a3d2-46cd-bf3e-208bcc6ff5ed",
   "metadata": {},
   "source": [
    "## Running simulation"
   ]
  },
  {
   "cell_type": "markdown",
   "id": "8c8f84b1-fba4-485b-8dba-6eca84e74286",
   "metadata": {},
   "source": [
    "$\\tau = 0.005, T = 50, x_1 = 5000, x_2 = 4000, k_- = 0.2, k_+ = 4\\cdot 10^{-5}$"
   ]
  },
  {
   "cell_type": "code",
   "execution_count": 6,
   "id": "f118a5dd-a6e3-49d5-adc4-a856999642d4",
   "metadata": {},
   "outputs": [
    {
     "data": {
      "text/plain": [
       "0.013195991516113281"
      ]
     },
     "execution_count": 6,
     "metadata": {},
     "output_type": "execute_result"
    }
   ],
   "source": [
    "chem_sys = init_chemical_system()\n",
    "s = time.time()\n",
    "records = chem_sys.tau_simulation(tau = 0.05, T=20, record=True)\n",
    "e = time.time()\n",
    "e-s"
   ]
  },
  {
   "cell_type": "code",
   "execution_count": 7,
   "id": "f5acf663-99f9-469b-9e90-7eb79268ca90",
   "metadata": {},
   "outputs": [
    {
     "data": {
      "text/plain": [
       "<AxesSubplot:>"
      ]
     },
     "execution_count": 7,
     "metadata": {},
     "output_type": "execute_result"
    },
    {
     "data": {
      "image/png": "[encoded data removed]",
      "text/plain": [
       "<Figure size 432x288 with 1 Axes>"
      ]
     },
     "metadata": {
      "needs_background": "light"
     },
     "output_type": "display_data"
    }
   ],
   "source": [
    "records.T.plot()"
   ]
  },
  {
   "cell_type": "code",
   "execution_count": 8,
   "id": "55c6a5f3-f8f9-4c21-8183-5416c34cbf29",
   "metadata": {},
   "outputs": [],
   "source": [
    "arr = records.T.to_numpy()\n",
    "ratio = arr[:,0]/arr[:,1]"
   ]
  },
  {
   "cell_type": "code",
   "execution_count": 9,
   "id": "a3967b37-e9fd-4b79-951f-a77d2e15b2fb",
   "metadata": {},
   "outputs": [],
   "source": [
    "from matplotlib import pyplot as plt"
   ]
  },
  {
   "cell_type": "code",
   "execution_count": 10,
   "id": "79177841-9e04-4e90-836f-ff3d9f9d9c6c",
   "metadata": {},
   "outputs": [
    {
     "data": {
      "text/plain": [
       "[<matplotlib.lines.Line2D at 0x11c2bd2d0>]"
      ]
     },
     "execution_count": 10,
     "metadata": {},
     "output_type": "execute_result"
    },
    {
     "data": {
      "image/png": "[encoded data removed]",
      "text/plain": [
       "<Figure size 432x288 with 1 Axes>"
      ]
     },
     "metadata": {
      "needs_background": "light"
     },
     "output_type": "display_data"
    }
   ],
   "source": [
    "plt.plot(ratio)"
   ]
  },
  {
   "cell_type": "code",
   "execution_count": null,
   "id": "eda92d20-5060-4a59-a858-486dfb09de16",
   "metadata": {},
   "outputs": [],
   "source": []
  }
 ],
 "metadata": {
  "kernelspec": {
   "display_name": "Python 3 (ipykernel)",
   "language": "python",
   "name": "python3"
  },
  "language_info": {
   "codemirror_mode": {
    "name": "ipython",
    "version": 3
   },
   "file_extension": ".py",
   "mimetype": "text/x-python",
   "name": "python",
   "nbconvert_exporter": "python",
   "pygments_lexer": "ipython3",
   "version": "3.10.2"
  }
 },
 "nbformat": 4,
 "nbformat_minor": 5
}
