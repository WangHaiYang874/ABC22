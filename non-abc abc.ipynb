{
 "cells": [
  {
   "cell_type": "code",
   "execution_count": 1,
   "metadata": {},
   "outputs": [],
   "source": [
    "import numpy as np\n",
    "import sys\n",
    "sys.path.insert(1,'./src/')\n",
    "from models import ChemicalReactionNetwork\n",
    "from matplotlib import pyplot as plt"
   ]
  },
  {
   "cell_type": "markdown",
   "metadata": {},
   "source": [
    "See [description of this notebook](./questions.md/#july-17th-non-abc)"
   ]
  },
  {
   "cell_type": "code",
   "execution_count": null,
   "metadata": {},
   "outputs": [],
   "source": [
    "species = 'A B C'.split()\n",
    "reactions = [\n",
    "    ({'A': 1}, {'B': 1}),\n",
    "    ({'B': 1}, {'A': 1}),\n",
    "    ({'B': 1}, {'C': 1}),\n",
    "    ({'C': 1}, {'B': 1}),\n",
    "]\n",
    "kinetic_rates = [10,10,1,1]\n",
    "# \n",
    "\n",
    "model = ChemicalReactionNetwork()"
   ]
  }
 ],
 "metadata": {
  "kernelspec": {
   "display_name": "Python 3.10.4 ('mcmc')",
   "language": "python",
   "name": "python3"
  },
  "language_info": {
   "codemirror_mode": {
    "name": "ipython",
    "version": 3
   },
   "file_extension": ".py",
   "mimetype": "text/x-python",
   "name": "python",
   "nbconvert_exporter": "python",
   "pygments_lexer": "ipython3",
   "version": "3.10.4"
  },
  "orig_nbformat": 4,
  "vscode": {
   "interpreter": {
    "hash": "4ef73ebb8c6bf4417ef67e5e59e1d5056975f98c8de7a8fed064bf6fc2f47c64"
   }
  }
 },
 "nbformat": 4,
 "nbformat_minor": 2
}
