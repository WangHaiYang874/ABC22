{
 "cells": [
  {
   "cell_type": "markdown",
   "metadata": {},
   "source": [
    "Given model parameter $\\theta$ of a chemical reaction network, one can couple 2 tau-leaping simulation with $\\tau, \\tau' = 2\\tau$. The 2 processes are denoted as $Z,Z'$. And then one step tau-leaping can be seen as \n",
    "\n",
    "$$\n",
    "Z(\\tau) = Z(0) + \\sum_k [\n",
    "    Y_{k,1}(\\min(\\lambda_0,\\lambda'_0)) + \n",
    "    Y_{k,2}(\\lambda_0 - \\min(\\lambda_0, \\lambda'_0) )] \\nu_k\n",
    "$$\n",
    "\n",
    "$$\n",
    "Z(2\\tau) = Z(\\tau) + \\sum_k [\n",
    "    Y_{k,3}(\\min(\\lambda_\\tau,\\lambda'_0)) + \n",
    "    Y_{k,4}(\\lambda_\\tau - \\min(\\lambda_\\tau, \\lambda'_0) )] \\nu_k\n",
    "$$\n",
    "\n",
    "$$ \n",
    "Z'(2\\tau) = Z_{\\tau}'(0) + \\sum_k [Y_{k,1}(\\min(\\lambda_0,\\lambda'_0)) + Y_{k,5}(\\lambda_0' - \\min(\\lambda_0, \\lambda'_0) ) + Y_{k,3}(\\min(\\lambda_\\tau,\\lambda'_0)) + Y_{k,6}(\\lambda'_0 - \\min(\\lambda_\\tau,\\lambda'_0)) ]\\nu_k\n",
    "$$\n",
    "\n",
    "where $Y_{k,i}, i = 1,2,3,4,5,6$ are independent poisson processes. $\\lambda$ are propensity function times $\\tau$\n",
    "\n"
   ]
  },
  {
   "cell_type": "markdown",
   "metadata": {},
   "source": [
    "for each step of $\\tau$ we need to sample and compute the propensity. and they need to be computed in a specific order\n",
    "1. $\\lambda_0,\\lambda_0'$\n",
    "2. $Y_{1}, Y_{2}, Y_{5}$\n",
    "3. $Z(\\tau)$\n",
    "4. $\\lambda_\\tau$\n",
    "5. $Y_{3}, Y_4$\n",
    "6. $Y_6$\n",
    "7. $Z'(2\\tau)$\n",
    "\n",
    "this is very tricky to code... And notice that this formula extends to the case of $\\tau' = n \\tau$ quite easily. "
   ]
  },
  {
   "cell_type": "code",
   "execution_count": 3,
   "metadata": {},
   "outputs": [],
   "source": [
    "import numpy as np\n",
    "import sys\n",
    "sys.path.insert(1,'./src/')\n",
    "from models import Repressilator"
   ]
  }
 ],
 "metadata": {
  "kernelspec": {
   "display_name": "Python 3.10.5 ('mcmc')",
   "language": "python",
   "name": "python3"
  },
  "language_info": {
   "codemirror_mode": {
    "name": "ipython",
    "version": 3
   },
   "file_extension": ".py",
   "mimetype": "text/x-python",
   "name": "python",
   "nbconvert_exporter": "python",
   "pygments_lexer": "ipython3",
   "version": "3.10.5"
  },
  "orig_nbformat": 4,
  "vscode": {
   "interpreter": {
    "hash": "78a815b9fc28189f8c9dfe5b15a76bcbb25a18275e90aaccf7afed89a3f1752e"
   }
  }
 },
 "nbformat": 4,
 "nbformat_minor": 2
}
