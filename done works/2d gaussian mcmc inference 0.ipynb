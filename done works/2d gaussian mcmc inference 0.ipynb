{
 "cells": [
  {
   "cell_type": "code",
   "execution_count": 1,
   "metadata": {},
   "outputs": [],
   "source": [
    "import numpy as np\n",
    "from scipy import stats as ss\n",
    "from matplotlib import pyplot as plt\n",
    "from mpl_toolkits import mplot3d\n",
    "from scipy.stats import norm\n",
    "from scipy.stats import multivariate_normal \n",
    "from scipy import stats as ss\n",
    "\n",
    "from BayersianModel import BayersianModel\n",
    "from Prior import Prior\n",
    "from copy import deepcopy\n",
    "import pandas as pd\n",
    "import os\n",
    "from MCMC import NaiveSampler"
   ]
  },
  {
   "cell_type": "code",
   "execution_count": 2,
   "metadata": {},
   "outputs": [],
   "source": [
    "normal2d = np.random.multivariate_normal"
   ]
  },
  {
   "cell_type": "markdown",
   "metadata": {},
   "source": [
    "# testing the sampling method\n",
    "\n",
    "this notebook aims to test the correctness of my naive sampler by doing some quantitative analysis on the 2d gaussian. \n",
    "\n",
    "#### testing the sampler: correctness and efficiency\n",
    "- compute effective sample size: i think warne has done this to his experiement \n",
    "- could there be a chi-square way, null hypothesis etc way of testing the confidence of this sampler? \n",
    "    - this works for independent samples, probabily not good for mcmc\n",
    "    - this could work for 2d. \n",
    "- moment method\n",
    "- summary statistics: this is the most easy way....\n",
    "- auto-correlation might also be very helpful"
   ]
  },
  {
   "cell_type": "code",
   "execution_count": 3,
   "metadata": {},
   "outputs": [],
   "source": [
    "# parameters\n",
    "m0 = 0\n",
    "m1 = 1\n",
    "c00 = 16\n",
    "c01 = 0\n",
    "c10 = 0\n",
    "c11 = 25\n",
    "mean = np.array([m0,m1])\n",
    "cov  = np.array([[c00,c01],[c10,c11]])\n",
    "sample_size = 20"
   ]
  },
  {
   "cell_type": "code",
   "execution_count": 4,
   "metadata": {},
   "outputs": [
    {
     "name": "stdout",
     "output_type": "stream",
     "text": [
      "\n"
     ]
    },
    {
     "data": {
      "image/png": "[encoded data removed]",
      "text/plain": [
       "<Figure size 432x288 with 1 Axes>"
      ]
     },
     "metadata": {
      "needs_background": "light"
     },
     "output_type": "display_data"
    }
   ],
   "source": [
    "# large_observation to see the distribution of this 2d normal\n",
    "large_observation = normal2d(mean,cov,1000000)\n",
    "plt.hist2d(large_observation[:,0],large_observation[:,1],bins=(100,100))\n",
    "print()"
   ]
  },
  {
   "cell_type": "code",
   "execution_count": 5,
   "metadata": {},
   "outputs": [
    {
     "name": "stdout",
     "output_type": "stream",
     "text": [
      "\n"
     ]
    },
    {
     "data": {
      "image/png": "[encoded data removed]",
      "text/plain": [
       "<Figure size 144x216 with 1 Axes>"
      ]
     },
     "metadata": {
      "needs_background": "light"
     },
     "output_type": "display_data"
    }
   ],
   "source": [
    "# observation\n",
    "observation = normal2d(mean,cov,sample_size)\n",
    "plt.figure(figsize=(2,3))\n",
    "plt.hist2d(observation[:,0],observation[:,1])\n",
    "print()"
   ]
  },
  {
   "cell_type": "markdown",
   "metadata": {},
   "source": [
    "## parameter estimation\n",
    "\n",
    "there are in total 5 parameters of a 2d gaussian distribution. they are\n",
    "$$\n",
    "\\mu_0=0,\\quad\\mu_1=1,\\quad c_{0,0}=16,\\quad c_{0,1}= c_{1,0}=0,\\quad c_{1,1}=25\n",
    "$$\n",
    "\n",
    "I will give the true value of $c_{1,0} = c_{0,1} =0$ as prior to the sampler, and let it only guessing what are $\\mu_0, \\mu_1 , c_{0,0}, c_{1,1}$. \n"
   ]
  },
  {
   "cell_type": "markdown",
   "metadata": {},
   "source": [
    "#### Parameter search space\n",
    "\n",
    "Notice that in the current case, the parameter has the following constrictions\n",
    "\n",
    "- $c_{00}, c_{11} \\ge 0$\n",
    "\n",
    "Otherwise the covariance matrix is not positive semi-definite. \n",
    "\n",
    "- The sampling of prior is easy: just limit it to some boxes will be fine. \n",
    "\n",
    "I will simply restict that \n",
    "- $\\mu_{0},\\mu_{1} \\in [-10,10]$\n",
    "- $c_{1,1} \\in [0,100]$\n",
    "- $c_{0,0}' \\in [0,100]$\n",
    "\n",
    "<!-- - but for the proposal function, can actually be a bit tricky. My method around it is described in the `MCMC.naive_sampler.proposal.'constraint'` right now. It could be a little biased.  -->"
   ]
  },
  {
   "cell_type": "code",
   "execution_count": 6,
   "metadata": {},
   "outputs": [],
   "source": [
    "theta_range = np.array(((-10,10),(-10,10),(0.1,50),(0.1,50))).T"
   ]
  },
  {
   "cell_type": "code",
   "execution_count": 13,
   "metadata": {},
   "outputs": [],
   "source": [
    "def flatten(theta):\n",
    "    '''\n",
    "    theta = mean, cov\n",
    "    return 1d array\n",
    "    '''\n",
    "    return np.concatenate([np.array(t).flatten() for t in theta])\n",
    "\n",
    "def reshape(arr):\n",
    "    '''\n",
    "    arr = (m0,m1,c00,c11)\n",
    "    return mean, cov\n",
    "    '''\n",
    "    m0,m1,c00,c11 = arr\n",
    "    return (\n",
    "        np.array([m0,m1]),\n",
    "        np.array([[c00,c01],[c10,c11]])\n",
    "        )\n",
    "\n",
    "def sampler():\n",
    "  return np.random.uniform(*theta_range)\n",
    "\n",
    "def constraint(theta):\n",
    "  '''\n",
    "  the cov is required to be symmetric positive definite. \n",
    "  this function checks if it is the case. \n",
    "  '''\n",
    "  cov = reshape(theta)[1]\n",
    "  return np.linalg.det(cov) > 0 and np.trace(cov) > 0\n",
    "\n",
    "\n",
    "def log_likelyhood(theta, observation):\n",
    "    '''\n",
    "    Inputs\n",
    "      - theta = (mu,cov)\n",
    "      - observation = ...\n",
    "      \n",
    "    Output\n",
    "      - likelyhood of L(theta, observation)\n",
    "    '''\n",
    "    theta_ = theta\n",
    "    theta = reshape(theta)\n",
    "    try:\n",
    "      var = multivariate_normal(*theta)\n",
    "    except ValueError:\n",
    "      print(theta)\n",
    "      assert(False)\n",
    "    return np.product(var.pdf(observation))"
   ]
  },
  {
   "cell_type": "markdown",
   "metadata": {},
   "source": [
    "## Inference"
   ]
  },
  {
   "cell_type": "code",
   "execution_count": 17,
   "metadata": {},
   "outputs": [
    {
     "data": {
      "text/plain": [
       "False"
      ]
     },
     "execution_count": 17,
     "metadata": {},
     "output_type": "execute_result"
    }
   ],
   "source": [
    "np.linalg.det([[-0.64488175,  0.        ],\n",
    "       [ 0.        , 37.12288038]]) > 0"
   ]
  },
  {
   "cell_type": "code",
   "execution_count": 14,
   "metadata": {},
   "outputs": [],
   "source": [
    "prior = Prior(\n",
    "    log_pdf=lambda _:1,\n",
    "    sampler=sampler,\n",
    "    theta_range=theta_range\n",
    ")\n",
    "model = BayersianModel(\n",
    "    prior=prior,\n",
    "    observation=observation,\n",
    "    log_likelyhood=log_likelyhood,\n",
    "    )\n",
    "\n",
    "naive_sampelr = NaiveSampler(\n",
    "    model,\n",
    "    burn_in=0\n",
    ")"
   ]
  },
  {
   "cell_type": "code",
   "execution_count": 15,
   "metadata": {},
   "outputs": [
    {
     "name": "stderr",
     "output_type": "stream",
     "text": [
      "sampling posterior:   0%|          | 595/500000 [00:00<01:41, 4912.19it/s]"
     ]
    },
    {
     "name": "stdout",
     "output_type": "stream",
     "text": [
      "(array([-27.37016407,  10.06634619]), array([[-0.64488175,  0.        ],\n",
      "       [ 0.        , 37.12288038]]))\n"
     ]
    },
    {
     "name": "stderr",
     "output_type": "stream",
     "text": [
      "\n"
     ]
    },
    {
     "ename": "AssertionError",
     "evalue": "",
     "output_type": "error",
     "traceback": [
      "\u001b[0;31m---------------------------------------------------------------------------\u001b[0m",
      "\u001b[0;31mValueError\u001b[0m                                Traceback (most recent call last)",
      "\u001b[1;32m/Users/haiy/ABC22/June 7.ipynb Cell 10'\u001b[0m in \u001b[0;36mlog_likelyhood\u001b[0;34m(theta, observation)\u001b[0m\n\u001b[1;32m     <a href='vscode-notebook-cell:/Users/haiy/ABC22/June%207.ipynb#ch0000009?line=41'>42</a>\u001b[0m \u001b[39mtry\u001b[39;00m:\n\u001b[0;32m---> <a href='vscode-notebook-cell:/Users/haiy/ABC22/June%207.ipynb#ch0000009?line=42'>43</a>\u001b[0m   var \u001b[39m=\u001b[39m multivariate_normal(\u001b[39m*\u001b[39;49mtheta)\n\u001b[1;32m     <a href='vscode-notebook-cell:/Users/haiy/ABC22/June%207.ipynb#ch0000009?line=43'>44</a>\u001b[0m \u001b[39mexcept\u001b[39;00m \u001b[39mValueError\u001b[39;00m:\n",
      "File \u001b[0;32m/opt/homebrew/Caskroom/miniforge/base/envs/work/lib/python3.10/site-packages/scipy/stats/_multivariate.py:360\u001b[0m, in \u001b[0;36mmultivariate_normal_gen.__call__\u001b[0;34m(self, mean, cov, allow_singular, seed)\u001b[0m\n\u001b[1;32m    <a href='file:///opt/homebrew/Caskroom/miniforge/base/envs/work/lib/python3.10/site-packages/scipy/stats/_multivariate.py?line=355'>356</a>\u001b[0m \u001b[39m\"\"\"Create a frozen multivariate normal distribution.\u001b[39;00m\n\u001b[1;32m    <a href='file:///opt/homebrew/Caskroom/miniforge/base/envs/work/lib/python3.10/site-packages/scipy/stats/_multivariate.py?line=356'>357</a>\u001b[0m \n\u001b[1;32m    <a href='file:///opt/homebrew/Caskroom/miniforge/base/envs/work/lib/python3.10/site-packages/scipy/stats/_multivariate.py?line=357'>358</a>\u001b[0m \u001b[39mSee `multivariate_normal_frozen` for more information.\u001b[39;00m\n\u001b[1;32m    <a href='file:///opt/homebrew/Caskroom/miniforge/base/envs/work/lib/python3.10/site-packages/scipy/stats/_multivariate.py?line=358'>359</a>\u001b[0m \u001b[39m\"\"\"\u001b[39;00m\n\u001b[0;32m--> <a href='file:///opt/homebrew/Caskroom/miniforge/base/envs/work/lib/python3.10/site-packages/scipy/stats/_multivariate.py?line=359'>360</a>\u001b[0m \u001b[39mreturn\u001b[39;00m multivariate_normal_frozen(mean, cov,\n\u001b[1;32m    <a href='file:///opt/homebrew/Caskroom/miniforge/base/envs/work/lib/python3.10/site-packages/scipy/stats/_multivariate.py?line=360'>361</a>\u001b[0m                                   allow_singular\u001b[39m=\u001b[39;49mallow_singular,\n\u001b[1;32m    <a href='file:///opt/homebrew/Caskroom/miniforge/base/envs/work/lib/python3.10/site-packages/scipy/stats/_multivariate.py?line=361'>362</a>\u001b[0m                                   seed\u001b[39m=\u001b[39;49mseed)\n",
      "File \u001b[0;32m/opt/homebrew/Caskroom/miniforge/base/envs/work/lib/python3.10/site-packages/scipy/stats/_multivariate.py:730\u001b[0m, in \u001b[0;36mmultivariate_normal_frozen.__init__\u001b[0;34m(self, mean, cov, allow_singular, seed, maxpts, abseps, releps)\u001b[0m\n\u001b[1;32m    <a href='file:///opt/homebrew/Caskroom/miniforge/base/envs/work/lib/python3.10/site-packages/scipy/stats/_multivariate.py?line=727'>728</a>\u001b[0m \u001b[39mself\u001b[39m\u001b[39m.\u001b[39mdim, \u001b[39mself\u001b[39m\u001b[39m.\u001b[39mmean, \u001b[39mself\u001b[39m\u001b[39m.\u001b[39mcov \u001b[39m=\u001b[39m \u001b[39mself\u001b[39m\u001b[39m.\u001b[39m_dist\u001b[39m.\u001b[39m_process_parameters(\n\u001b[1;32m    <a href='file:///opt/homebrew/Caskroom/miniforge/base/envs/work/lib/python3.10/site-packages/scipy/stats/_multivariate.py?line=728'>729</a>\u001b[0m                                                     \u001b[39mNone\u001b[39;00m, mean, cov)\n\u001b[0;32m--> <a href='file:///opt/homebrew/Caskroom/miniforge/base/envs/work/lib/python3.10/site-packages/scipy/stats/_multivariate.py?line=729'>730</a>\u001b[0m \u001b[39mself\u001b[39m\u001b[39m.\u001b[39mcov_info \u001b[39m=\u001b[39m _PSD(\u001b[39mself\u001b[39;49m\u001b[39m.\u001b[39;49mcov, allow_singular\u001b[39m=\u001b[39;49mallow_singular)\n\u001b[1;32m    <a href='file:///opt/homebrew/Caskroom/miniforge/base/envs/work/lib/python3.10/site-packages/scipy/stats/_multivariate.py?line=730'>731</a>\u001b[0m \u001b[39mif\u001b[39;00m \u001b[39mnot\u001b[39;00m maxpts:\n",
      "File \u001b[0;32m/opt/homebrew/Caskroom/miniforge/base/envs/work/lib/python3.10/site-packages/scipy/stats/_multivariate.py:162\u001b[0m, in \u001b[0;36m_PSD.__init__\u001b[0;34m(self, M, cond, rcond, lower, check_finite, allow_singular)\u001b[0m\n\u001b[1;32m    <a href='file:///opt/homebrew/Caskroom/miniforge/base/envs/work/lib/python3.10/site-packages/scipy/stats/_multivariate.py?line=160'>161</a>\u001b[0m \u001b[39mif\u001b[39;00m np\u001b[39m.\u001b[39mmin(s) \u001b[39m<\u001b[39m \u001b[39m-\u001b[39meps:\n\u001b[0;32m--> <a href='file:///opt/homebrew/Caskroom/miniforge/base/envs/work/lib/python3.10/site-packages/scipy/stats/_multivariate.py?line=161'>162</a>\u001b[0m     \u001b[39mraise\u001b[39;00m \u001b[39mValueError\u001b[39;00m(\u001b[39m'\u001b[39m\u001b[39mthe input matrix must be positive semidefinite\u001b[39m\u001b[39m'\u001b[39m)\n\u001b[1;32m    <a href='file:///opt/homebrew/Caskroom/miniforge/base/envs/work/lib/python3.10/site-packages/scipy/stats/_multivariate.py?line=162'>163</a>\u001b[0m d \u001b[39m=\u001b[39m s[s \u001b[39m>\u001b[39m eps]\n",
      "\u001b[0;31mValueError\u001b[0m: the input matrix must be positive semidefinite",
      "\nDuring handling of the above exception, another exception occurred:\n",
      "\u001b[0;31mAssertionError\u001b[0m                            Traceback (most recent call last)",
      "\u001b[1;32m/Users/haiy/ABC22/June 7.ipynb Cell 13'\u001b[0m in \u001b[0;36m<cell line: 1>\u001b[0;34m()\u001b[0m\n\u001b[0;32m----> <a href='vscode-notebook-cell:/Users/haiy/ABC22/June%207.ipynb#ch0000012?line=0'>1</a>\u001b[0m pst_samples \u001b[39m=\u001b[39m naive_sampelr\u001b[39m.\u001b[39;49msimulation(\n\u001b[1;32m      <a href='vscode-notebook-cell:/Users/haiy/ABC22/June%207.ipynb#ch0000012?line=1'>2</a>\u001b[0m     n\u001b[39m=\u001b[39;49m\u001b[39m500000\u001b[39;49m,\n\u001b[1;32m      <a href='vscode-notebook-cell:/Users/haiy/ABC22/June%207.ipynb#ch0000012?line=2'>3</a>\u001b[0m     theta_range\u001b[39m=\u001b[39;49m\u001b[39m'\u001b[39;49m\u001b[39mconstraint\u001b[39;49m\u001b[39m'\u001b[39;49m,\n\u001b[1;32m      <a href='vscode-notebook-cell:/Users/haiy/ABC22/June%207.ipynb#ch0000012?line=3'>4</a>\u001b[0m     constraint\u001b[39m=\u001b[39;49mconstraint,\n\u001b[1;32m      <a href='vscode-notebook-cell:/Users/haiy/ABC22/June%207.ipynb#ch0000012?line=4'>5</a>\u001b[0m     box_size\u001b[39m=\u001b[39;49m\u001b[39m1\u001b[39;49m)\n",
      "File \u001b[0;32m~/ABC22/MCMC.py:87\u001b[0m, in \u001b[0;36mNaiveSampler.simulation\u001b[0;34m(self, n, theta_range, box_size, constraint)\u001b[0m\n\u001b[1;32m     <a href='file:///Users/haiy/ABC22/MCMC.py?line=82'>83</a>\u001b[0m theta_,log_t \u001b[39m=\u001b[39m \u001b[39mself\u001b[39m\u001b[39m.\u001b[39mproposal(theta,theta_range\u001b[39m=\u001b[39mtheta_range,\n\u001b[1;32m     <a href='file:///Users/haiy/ABC22/MCMC.py?line=83'>84</a>\u001b[0m                              constraint\u001b[39m=\u001b[39mconstraint,box_size\u001b[39m=\u001b[39mbox_size)\n\u001b[1;32m     <a href='file:///Users/haiy/ABC22/MCMC.py?line=84'>85</a>\u001b[0m \u001b[39mif\u001b[39;00m constraint(theta_):\n\u001b[1;32m     <a href='file:///Users/haiy/ABC22/MCMC.py?line=85'>86</a>\u001b[0m     log_posterior \u001b[39m=\u001b[39m \u001b[39mself\u001b[39m\u001b[39m.\u001b[39mmodel\u001b[39m.\u001b[39mlog_posterior(theta_)\\\n\u001b[0;32m---> <a href='file:///Users/haiy/ABC22/MCMC.py?line=86'>87</a>\u001b[0m         \u001b[39m-\u001b[39m \u001b[39mself\u001b[39;49m\u001b[39m.\u001b[39;49mmodel\u001b[39m.\u001b[39;49mlog_posterior(theta)\n\u001b[1;32m     <a href='file:///Users/haiy/ABC22/MCMC.py?line=87'>88</a>\u001b[0m     log_p \u001b[39m=\u001b[39m log_t \u001b[39m+\u001b[39m log_posterior\n\u001b[1;32m     <a href='file:///Users/haiy/ABC22/MCMC.py?line=88'>89</a>\u001b[0m     \u001b[39mif\u001b[39;00m log_p \u001b[39m>\u001b[39m\u001b[39m=\u001b[39m \u001b[39m0\u001b[39m:\n",
      "File \u001b[0;32m~/ABC22/BayersianModel.py:48\u001b[0m, in \u001b[0;36mBayersianModel.log_posterior\u001b[0;34m(self, theta)\u001b[0m\n\u001b[1;32m     <a href='file:///Users/haiy/ABC22/BayersianModel.py?line=45'>46</a>\u001b[0m \u001b[39mdef\u001b[39;00m \u001b[39mlog_posterior\u001b[39m(\u001b[39mself\u001b[39m, theta):\n\u001b[1;32m     <a href='file:///Users/haiy/ABC22/BayersianModel.py?line=46'>47</a>\u001b[0m     \u001b[39mreturn\u001b[39;00m \u001b[39mself\u001b[39m\u001b[39m.\u001b[39mprior\u001b[39m.\u001b[39mlog_pdf(theta) \\\n\u001b[0;32m---> <a href='file:///Users/haiy/ABC22/BayersianModel.py?line=47'>48</a>\u001b[0m         \u001b[39m+\u001b[39m \u001b[39mself\u001b[39;49m\u001b[39m.\u001b[39;49mlog_likelyhood(theta,\u001b[39mself\u001b[39;49m\u001b[39m.\u001b[39;49mobservation) \\\n\u001b[1;32m     <a href='file:///Users/haiy/ABC22/BayersianModel.py?line=48'>49</a>\u001b[0m         \u001b[39m-\u001b[39m np\u001b[39m.\u001b[39mlog(\u001b[39mself\u001b[39m\u001b[39m.\u001b[39mevidence(theta))\n",
      "\u001b[1;32m/Users/haiy/ABC22/June 7.ipynb Cell 10'\u001b[0m in \u001b[0;36mlog_likelyhood\u001b[0;34m(theta, observation)\u001b[0m\n\u001b[1;32m     <a href='vscode-notebook-cell:/Users/haiy/ABC22/June%207.ipynb#ch0000009?line=43'>44</a>\u001b[0m \u001b[39mexcept\u001b[39;00m \u001b[39mValueError\u001b[39;00m:\n\u001b[1;32m     <a href='vscode-notebook-cell:/Users/haiy/ABC22/June%207.ipynb#ch0000009?line=44'>45</a>\u001b[0m   \u001b[39mprint\u001b[39m(theta)\n\u001b[0;32m---> <a href='vscode-notebook-cell:/Users/haiy/ABC22/June%207.ipynb#ch0000009?line=45'>46</a>\u001b[0m   \u001b[39massert\u001b[39;00m(\u001b[39mFalse\u001b[39;00m)\n\u001b[1;32m     <a href='vscode-notebook-cell:/Users/haiy/ABC22/June%207.ipynb#ch0000009?line=46'>47</a>\u001b[0m \u001b[39mreturn\u001b[39;00m np\u001b[39m.\u001b[39mproduct(var\u001b[39m.\u001b[39mpdf(observation))\n",
      "\u001b[0;31mAssertionError\u001b[0m: "
     ]
    }
   ],
   "source": [
    "pst_samples = naive_sampelr.simulation(\n",
    "    n=500000,\n",
    "    theta_range='constraint',\n",
    "    constraint=constraint,\n",
    "    box_size=1)"
   ]
  },
  {
   "cell_type": "code",
   "execution_count": null,
   "metadata": {},
   "outputs": [],
   "source": [
    "M1,M2,C1,C2, = pst_samples.T"
   ]
  },
  {
   "cell_type": "code",
   "execution_count": null,
   "metadata": {},
   "outputs": [
    {
     "data": {
      "text/plain": [
       "<matplotlib.legend.Legend at 0x14b0ea770>"
      ]
     },
     "execution_count": 29,
     "metadata": {},
     "output_type": "execute_result"
    },
    {
     "data": {
      "image/png": "[encoded data removed]",
      "text/plain": [
       "<Figure size 432x288 with 1 Axes>"
      ]
     },
     "metadata": {
      "needs_background": "light"
     },
     "output_type": "display_data"
    }
   ],
   "source": [
    "plt.plot((M1.cumsum() / np.arange(1, len(M1)+1)),c='r',label='mu1')\n",
    "plt.axhline(0,c='r',linestyle='--')\n",
    "plt.plot((M2.cumsum() / np.arange(1, len(M1)+1)),c='b',label='mu2')\n",
    "plt.axhline(1,c='b',linestyle='--')\n",
    "plt.plot((C1.cumsum() / np.arange(1, len(M1)+1)),c='g',label='sigma11')\n",
    "plt.axhline(16,c='g',linestyle='--')\n",
    "plt.plot((C2.cumsum() / np.arange(1, len(M1)+1)),c='y',label='sigma22')\n",
    "plt.axhline(25,c='y',linestyle='--')\n",
    "plt.legend()\n"
   ]
  },
  {
   "cell_type": "code",
   "execution_count": null,
   "metadata": {},
   "outputs": [
    {
     "name": "stdout",
     "output_type": "stream",
     "text": [
      "\n"
     ]
    },
    {
     "data": {
      "image/png": "[encoded data removed]",
      "text/plain": [
       "<Figure size 432x288 with 1 Axes>"
      ]
     },
     "metadata": {
      "needs_background": "light"
     },
     "output_type": "display_data"
    }
   ],
   "source": [
    "plt.hist2d(M1,M2,bins=(100,100))\n",
    "print()"
   ]
  },
  {
   "cell_type": "code",
   "execution_count": null,
   "metadata": {},
   "outputs": [],
   "source": []
  }
 ],
 "metadata": {
  "interpreter": {
   "hash": "e7b069d7422492e5727182a0e1782c5eb57bd1588256e5d256bb3ae36d05dae9"
  },
  "kernelspec": {
   "display_name": "Python 3.10.2 ('work')",
   "language": "python",
   "name": "python3"
  },
  "language_info": {
   "codemirror_mode": {
    "name": "ipython",
    "version": 3
   },
   "file_extension": ".py",
   "mimetype": "text/x-python",
   "name": "python",
   "nbconvert_exporter": "python",
   "pygments_lexer": "ipython3",
   "version": "3.10.2"
  },
  "orig_nbformat": 4
 },
 "nbformat": 4,
 "nbformat_minor": 2
}
