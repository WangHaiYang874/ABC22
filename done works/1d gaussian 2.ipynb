{
 "cells": [
  {
   "cell_type": "markdown",
   "metadata": {},
   "source": [
    "# todos\n",
    "\n",
    "#### testing the sampler: correctness and efficiency\n",
    "- compute effective sample size: i think warne has done this to his experiement \n",
    "- could there be a chi-square way, null hypothesis etc way of testing the confidence of this sampler? \n",
    "    - this works for independent samples, probabily not good for mcmc\n",
    "    - this could work for 2d. \n",
    "- moment method\n",
    "- summary statistics: this is the most easy way....\n",
    "- auto-correlation might also be very helpful"
   ]
  },
  {
   "cell_type": "code",
   "execution_count": 51,
   "metadata": {},
   "outputs": [],
   "source": [
    "import numpy as np\n",
    "from scipy import stats as ss\n",
    "from matplotlib import pyplot as plt\n",
    "from mpl_toolkits import mplot3d\n",
    "from scipy.stats import norm\n",
    "from scipy import stats as ss"
   ]
  },
  {
   "cell_type": "markdown",
   "metadata": {},
   "source": [
    "# Parameters for the model"
   ]
  },
  {
   "cell_type": "code",
   "execution_count": 52,
   "metadata": {},
   "outputs": [],
   "source": [
    "mu = 2\n",
    "sigma = 1\n",
    "\n",
    "mu_range = (0,10)\n",
    "sigma_range = (.1,10)\n",
    "parameter_range = (mu_range,sigma_range)\n",
    "\n",
    "data_size = 5\n",
    "\n",
    "def log_likely(theta,observation): \n",
    "    return np.sum(norm.logpdf(observation,loc=theta[0],scale=np.abs(theta[1])))\n"
   ]
  },
  {
   "cell_type": "markdown",
   "metadata": {},
   "source": [
    "# Data generation\n",
    "\n",
    "the observation is 10 samples of the $\\mathcal N(2,1)$"
   ]
  },
  {
   "cell_type": "code",
   "execution_count": 53,
   "metadata": {},
   "outputs": [],
   "source": [
    "observation = np.random.normal(mu,sigma,data_size)"
   ]
  },
  {
   "cell_type": "code",
   "execution_count": 54,
   "metadata": {},
   "outputs": [
    {
     "name": "stdout",
     "output_type": "stream",
     "text": [
      "\n"
     ]
    },
    {
     "data": {
      "image/png": "[encoded data removed]",
      "text/plain": [
       "<Figure size 432x288 with 1 Axes>"
      ]
     },
     "metadata": {
      "needs_background": "light"
     },
     "output_type": "display_data"
    }
   ],
   "source": [
    "plt.hist(observation)\n",
    "print()"
   ]
  },
  {
   "cell_type": "markdown",
   "metadata": {},
   "source": [
    "# The Posterior Class\n",
    "\n",
    "the posterior is computed as the following \n",
    "\n",
    "$$\n",
    "\\pi(\\theta|X) = \\frac{L(\\theta|X) \\pi(\\theta)}{\\int_{\\Theta} L(\\theta|X)\\pi(\\theta')d\\theta'}\n",
    "$$\n",
    "\n",
    "#### attributes\n",
    "- `prior`, $\\pi(\\theta)$, this is the pdf of the prior. the default is `None`, and in this case it is assumed to be uniform. \n",
    "- `parameter_range`, this is the range of the 2d parameter space. $((\\theta_1^{min},\\theta_1^{max}),(\\theta_2^{min},\\theta_2^{max}))$\n",
    "- `log_likelyhood`, $\\log L(\\theta,X)$, should also be given by the user. \n",
    "- `evidence`, $\\int_{\\Theta} L(\\theta|X)\\pi(\\theta')d\\theta'$, at default is `None`, and replaced as 1. If the user input a function of X, then it will be calculated. In the case that evidence is not given, the posterior is only propotionally correct. \n",
    "- `observation`, this is simply a numpy array \n",
    "\n",
    "In many situations, the posterior is to the order of $\\exp(-100)$, which would be rounded to zero in the float64 arithemetic, so I will provide **log-posterior** for the computation. the normal posterior will be provided as well, but it should not be used unless for graphing reasons. \n",
    "\n",
    "#### this only deals with\n",
    "- 2d rectangular parameter space\n"
   ]
  },
  {
   "cell_type": "code",
   "execution_count": 55,
   "metadata": {},
   "outputs": [],
   "source": [
    "class Posterior:\n",
    "    \n",
    "    def __init__(self, parameter_range, log_likelyhood, observation, prior=None, evidence=None):\n",
    "        \n",
    "        self.theta1min = parameter_range[0][0]\n",
    "        self.theta1max = parameter_range[0][1]\n",
    "        self.theta2min = parameter_range[1][0]\n",
    "        self.theta2max = parameter_range[1][1]\n",
    "        \n",
    "        self.log_likelyhood = log_likelyhood\n",
    "        \n",
    "        self.observation = observation\n",
    "        \n",
    "        if evidence is None:\n",
    "            self.evidence = lambda _:1\n",
    "            self.prior = lambda _:1\n",
    "            self.prior_sampler = lambda : (np.random.uniform(self.theta1min,self.theta1max), np.random.uniform(self.theta2min,self.theta2max))\n",
    "            \n",
    "        else:              \n",
    "            self.evidence = evidence\n",
    "            if prior is not None:\n",
    "                self.prior = prior\n",
    "                self.prior_sampler = None\n",
    "            else:\n",
    "                self.prior = lambda x: 1/((self.theta1max-self.theta1min)*(self.theta2max-self.theta2min))\n",
    "        \n",
    "    def log_likely(self, theta):\n",
    "        return np.log(self.prior(theta)) + self.log_likelyhood(theta,self.observation) - np.log(self.evidence(theta))\n",
    "    \n",
    "    def likely(self, theta):\n",
    "        return np.exp(self.log_likely(theta))\n",
    "    \n",
    "    def heatmap(self, n=(400,400),s=2):\n",
    "        \n",
    "        Theta1 = np.linspace(self.theta1min,self.theta1max,n[0])\n",
    "        Theta2 = np.linspace(self.theta2min,self.theta2max,n[1])\n",
    "        Theta = np.array([(t1,t2) for t1 in Theta1 for t2 in Theta2])\n",
    "        P = [self.likely(theta) for theta in Theta]\n",
    "        \n",
    "        plt.figure(figsize=(10,10),)\n",
    "        ax = plt.axes()\n",
    "        ax.set_title('the pdf for posterior')\n",
    "        ax.scatter(Theta[:,0],Theta[:,1],c=P,s=s,cmap='jet')\n",
    "        ax.scatter([2],[1],s=[9])\n",
    "        self.P = P\n",
    "        return ax\n",
    "    \n",
    "    "
   ]
  },
  {
   "cell_type": "code",
   "execution_count": 56,
   "metadata": {},
   "outputs": [],
   "source": [
    "pos = Posterior(parameter_range,log_likely,observation)"
   ]
  },
  {
   "cell_type": "code",
   "execution_count": 57,
   "metadata": {},
   "outputs": [
    {
     "data": {
      "text/plain": [
       "<AxesSubplot:title={'center':'the pdf for posterior'}>"
      ]
     },
     "execution_count": 57,
     "metadata": {},
     "output_type": "execute_result"
    },
    {
     "data": {
      "image/png": "[encoded data removed]",
      "text/plain": [
       "<Figure size 720x720 with 1 Axes>"
      ]
     },
     "metadata": {
      "needs_background": "light"
     },
     "output_type": "display_data"
    }
   ],
   "source": [
    "pos.heatmap()"
   ]
  },
  {
   "cell_type": "markdown",
   "metadata": {},
   "source": [
    "this heatmap indicates that I have implemented the posterior correctly. the probability centered around $(2,1)$. "
   ]
  },
  {
   "cell_type": "markdown",
   "metadata": {},
   "source": [
    "# Sampler class\n",
    "\n",
    "Given the Posterior object, I can sample the posterior by MCMC methods. This is what the Sampler class tries to do. \n",
    "\n",
    "\n",
    "Potential problems: \n",
    "1. I am sampling in a rectangular parameter space so that I have to not hit the boundary? Near the boundaries, the posterior is almost surely zero. So probably I don't need to really worry about it, as it is not going to be sampled anyway. \n",
    "2. The inital sample has to be choosed carefully. I should pick an initial sample with large enought likelyhood. \n",
    "\n",
    "\n",
    "#### attributes\n",
    "- posterior\n",
    "- burn-in=50\n",
    "- n=1e5\n"
   ]
  },
  {
   "cell_type": "markdown",
   "metadata": {},
   "source": []
  },
  {
   "cell_type": "code",
   "execution_count": 58,
   "metadata": {},
   "outputs": [],
   "source": [
    "class Sampler:\n",
    "    '''\n",
    "    Given a Posterior Object, we can sample the posterior distribution. \n",
    "    '''\n",
    "    def __init__(self,posterior, burn_in=100):\n",
    "        self.posterior = posterior\n",
    "        self.burn_in = 100\n",
    "    \n",
    "    def get_init(self):\n",
    "        \n",
    "        '''\n",
    "        this gives a random position of the prior as the starting point of the MC\n",
    "        '''\n",
    "        \n",
    "        # if self.posterior.P is None:\n",
    "        #     self.posterior.heatmap()\n",
    "        \n",
    "        # median = np.median(self.posterior.P)\n",
    "        \n",
    "        theta = self.posterior.prior_sampler()\n",
    "        # while self.posterior.likely(theta) < median:\n",
    "        #     theta = self.posterior.prior_sampler()\n",
    "        \n",
    "        return theta\n",
    "    \n",
    "    def proposal(self, theta):\n",
    "        \n",
    "        '''\n",
    "        this is the proposal function. \n",
    "        it returns the proposal, and the probability ratio of the proposal log p(theta'|theta) - log p(theta|theta')\n",
    "        '''\n",
    "        \n",
    "        theta1rg = (theta[0]-0.2, theta[0]+0.2)\n",
    "        theta2rg = (theta[1]-0.2, theta[1]+0.2)\n",
    "        \n",
    "        theta1 = np.random.uniform(*theta1rg)\n",
    "        theta2 = np.random.uniform(*theta2rg)\n",
    "        \n",
    "        return (theta1,theta2)\n",
    "    \n",
    "    def simulation(self,n=10000):\n",
    "        theta = self.get_init()\n",
    "        samples = [theta]\n",
    "        for i in range(n+self.burn_in):\n",
    "            theta_ = self.proposal(theta)\n",
    "            log_likely_ratio = - self.posterior.log_likely(theta) + self.posterior.log_likely(theta_)\n",
    "            log_q = log_likely_ratio\n",
    "            if log_q >= 0:\n",
    "                theta = theta_\n",
    "            if log_q <= np.log(np.random.uniform()):\n",
    "                theta = theta_\n",
    "            samples.append(theta)\n",
    "        return np.array(samples[-n:])"
   ]
  },
  {
   "cell_type": "code",
   "execution_count": 59,
   "metadata": {},
   "outputs": [],
   "source": [
    "sampler = Sampler(pos)"
   ]
  },
  {
   "cell_type": "code",
   "execution_count": 60,
   "metadata": {},
   "outputs": [],
   "source": [
    "pos_samples = sampler.simulation(n=100000)"
   ]
  },
  {
   "cell_type": "code",
   "execution_count": 61,
   "metadata": {},
   "outputs": [],
   "source": [
    "XX,YY = pos_samples.T"
   ]
  },
  {
   "cell_type": "code",
   "execution_count": 62,
   "metadata": {},
   "outputs": [
    {
     "name": "stdout",
     "output_type": "stream",
     "text": [
      "\n"
     ]
    },
    {
     "data": {
      "image/png": "[encoded data removed]",
      "text/plain": [
       "<Figure size 720x720 with 1 Axes>"
      ]
     },
     "metadata": {
      "needs_background": "light"
     },
     "output_type": "display_data"
    }
   ],
   "source": [
    "plt.figure(figsize=(10,10))\n",
    "plt.hist2d(XX,YY,bins=(100,100),cmap='jet')\n",
    "print()"
   ]
  }
 ],
 "metadata": {
  "interpreter": {
   "hash": "e7b069d7422492e5727182a0e1782c5eb57bd1588256e5d256bb3ae36d05dae9"
  },
  "kernelspec": {
   "display_name": "Python 3.10.2 ('work')",
   "language": "python",
   "name": "python3"
  },
  "language_info": {
   "codemirror_mode": {
    "name": "ipython",
    "version": 3
   },
   "file_extension": ".py",
   "mimetype": "text/x-python",
   "name": "python",
   "nbconvert_exporter": "python",
   "pygments_lexer": "ipython3",
   "version": "3.10.2"
  },
  "orig_nbformat": 4
 },
 "nbformat": 4,
 "nbformat_minor": 2
}
