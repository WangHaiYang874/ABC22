{
 "cells": [
  {
   "cell_type": "code",
   "execution_count": 1,
   "id": "ad7e712e-6001-45cb-98c5-ad155410c167",
   "metadata": {},
   "outputs": [],
   "source": [
    "import numpy as np\n",
    "from copy import deepcopy\n",
    "import pandas as pd\n",
    "import time"
   ]
  },
  {
   "cell_type": "code",
   "execution_count": 2,
   "id": "73bb8602-77f6-48a3-bfd6-94bcc58a4a06",
   "metadata": {},
   "outputs": [],
   "source": [
    "def product(a,b):\n",
    "    '''\n",
    "    this returns the product of\n",
    "    b * (b-1) * (b-2) * ... * (b-a+1)\n",
    "    '''\n",
    "    \n",
    "    if a == 0:\n",
    "        return 1\n",
    "    if b < a:\n",
    "        return 0\n",
    "    return np.product(np.arange(b-a+1,b+1,1))"
   ]
  },
  {
   "cell_type": "markdown",
   "id": "50b399c4-f97a-4011-b79b-1c7785e2a605",
   "metadata": {},
   "source": [
    "## Gillespie for a simple chemical process\n"
   ]
  },
  {
   "cell_type": "markdown",
   "id": "b926a50a-f770-4f10-9377-42751a667330",
   "metadata": {},
   "source": [
    "this file is the code for the **Gillespie algorithm** applied to a very simple chemical process. \n",
    "\n",
    "There are two populations\n",
    "- $x_1$: the number of $O_2$ molucules\n",
    "- $x_2$: the number of $O$ molucules. \n",
    "\n",
    "And there are two chemical reactions:\n",
    "- **binding**: $O+O \\to O_2$, with reaction rate $k_+(x_2)(x_2-1)$\n",
    "- **breaking**: $O_2 \\to O+O$, with reaction rate $k_-x_1$\n",
    "\n"
   ]
  },
  {
   "cell_type": "markdown",
   "id": "0276f81e-1845-47d4-9613-b802646fdf1d",
   "metadata": {},
   "source": [
    "## model\n"
   ]
  },
  {
   "cell_type": "code",
   "execution_count": 3,
   "id": "f3124592-8df8-4629-82ed-d64fe4739a33",
   "metadata": {},
   "outputs": [],
   "source": [
    "# compounds should be a dictionary, key = name of the conpund, val = quantity of the counpound. \n",
    "\n",
    "class reaction:\n",
    "    \n",
    "    def __init__(self,input_compounds, output_compounds, reaction_rate, name=None):\n",
    "        \n",
    "        self.input = input_compounds\n",
    "        self.output = output_compounds\n",
    "        self.rr = reaction_rate\n",
    "        self.name = name\n",
    "    \n",
    "    def proba(self,i):\n",
    "        \n",
    "        return self.rr * np.product([product(self.input[key],i[key]) for key in self.input])\n",
    "    \n",
    "class chemical_system:\n",
    "    \n",
    "    def __init__(self, chemicals, reactions):\n",
    "        \n",
    "        self.chemicals = deepcopy(chemicals)\n",
    "        self.reactions = reactions\n",
    "    \n",
    "    def gillespie(self,t,T):\n",
    "        \n",
    "        # calculate probability\n",
    "        A = [reaction.proba(self.chemicals) for reaction in self.reactions]\n",
    "        a = sum(A)\n",
    "                \n",
    "        # sampling next time\n",
    "        dt = np.random.exponential(1/sum(A))\n",
    "        \n",
    "        if t + dt > T:\n",
    "            return None\n",
    "        \n",
    "        # sampling next action\n",
    "        A = A/a\n",
    "        action = np.random.choice(self.reactions,1,False,A)[0]\n",
    "        \n",
    "        # take the action. \n",
    "        for c in self.chemicals:\n",
    "            self.chemicals[c] -= action.input[c]\n",
    "            self.chemicals[c] += action.output[c]\n",
    "            if self.chemicals[c] < 0:\n",
    "                assert(False)\n",
    "        \n",
    "        return t + dt\n",
    "        \n",
    "    def simulation(self, T, record=False):\n",
    "            \n",
    "        t = 0\n",
    "        \n",
    "        if record:\n",
    "            records = [[t] + list(self.chemicals.values())]\n",
    "        \n",
    "        while t != None:\n",
    "            t = self.gillespie(t,T)\n",
    "            if record and t != None:\n",
    "                records.append([t] + list(self.chemicals.values()))\n",
    "\n",
    "        if record:\n",
    "            records = pd.DataFrame(data=records,columns=['time']+ list(self.chemicals.keys()))\n",
    "            return records.set_index('time')\n",
    "           "
   ]
  },
  {
   "cell_type": "markdown",
   "id": "0241541b-b23b-4070-b11a-383b6b4f705d",
   "metadata": {},
   "source": [
    "## Initialization"
   ]
  },
  {
   "cell_type": "code",
   "execution_count": 4,
   "id": "0762276f-407c-41a0-9f6f-bc26ab9680fe",
   "metadata": {},
   "outputs": [],
   "source": [
    "chemicals = {\n",
    "    \"O_2\": 5000,\n",
    "    \"O\":   4000\n",
    "    }\n",
    "\n",
    "binding = reaction(\n",
    "    input_compounds  = {'O':2, 'O_2':0},\n",
    "    output_compounds = {'O':0, 'O_2':1},\n",
    "    reaction_rate    = .0004\n",
    ")\n",
    "\n",
    "breaking = reaction(\n",
    "    input_compounds={'O':0, 'O_2':1},\n",
    "    output_compounds={'O':2, 'O_2':0},\n",
    "    reaction_rate = .2\n",
    ")\n",
    "\n",
    "reactions = [binding, breaking]\n",
    "\n",
    "\n",
    "def init_chemical_system():\n",
    "    return chemical_system(chemicals,reactions)"
   ]
  },
  {
   "cell_type": "code",
   "execution_count": 5,
   "id": "f1205951-faa8-4046-9f85-2bbdb9c03025",
   "metadata": {},
   "outputs": [
    {
     "data": {
      "text/plain": [
       "1.8963446617126465"
      ]
     },
     "execution_count": 5,
     "metadata": {},
     "output_type": "execute_result"
    }
   ],
   "source": [
    "chem_sys = init_chemical_system()\n",
    "s = time.time()\n",
    "records = chem_sys.simulation(T=20, record=True)\n",
    "e = time.time()\n",
    "e-s"
   ]
  },
  {
   "cell_type": "code",
   "execution_count": 6,
   "id": "277903a1-3368-4a61-a400-54e98c703ddd",
   "metadata": {},
   "outputs": [
    {
     "data": {
      "text/plain": [
       "0.00040190836938054045"
      ]
     },
     "execution_count": 6,
     "metadata": {},
     "output_type": "execute_result"
    }
   ],
   "source": [
    "pd.Series(records.index).diff().dropna().mean()"
   ]
  },
  {
   "cell_type": "markdown",
   "id": "f4d06635-12dc-4888-993b-7b207e986826",
   "metadata": {},
   "source": [
    "scientific notation"
   ]
  },
  {
   "cell_type": "code",
   "execution_count": 11,
   "id": "e8c1ad6e-a308-4c80-a303-c0bb2a0aba73",
   "metadata": {},
   "outputs": [
    {
     "data": {
      "text/plain": [
       "49763"
      ]
     },
     "execution_count": 11,
     "metadata": {},
     "output_type": "execute_result"
    }
   ],
   "source": [
    "len(records)"
   ]
  },
  {
   "cell_type": "code",
   "execution_count": 7,
   "id": "fb369ea2-35c1-4263-bb5f-ea8584510e9b",
   "metadata": {},
   "outputs": [
    {
     "data": {
      "text/plain": [
       "<AxesSubplot:xlabel='time'>"
      ]
     },
     "execution_count": 7,
     "metadata": {},
     "output_type": "execute_result"
    },
    {
     "data": {
      "image/png": "[encoded data removed]",
      "text/plain": [
       "<Figure size 432x288 with 1 Axes>"
      ]
     },
     "metadata": {
      "needs_background": "light"
     },
     "output_type": "display_data"
    }
   ],
   "source": [
    "records.plot()"
   ]
  },
  {
   "cell_type": "code",
   "execution_count": 8,
   "id": "1df6731c-6aaa-4478-b20f-89d2e10309fa",
   "metadata": {},
   "outputs": [],
   "source": [
    "arr = records.to_numpy()\n",
    "ratio = arr[:,0]/arr[:,1]"
   ]
  },
  {
   "cell_type": "code",
   "execution_count": 9,
   "id": "2bf0c1fc-d420-4e06-8cef-035c55dc1f3d",
   "metadata": {},
   "outputs": [],
   "source": [
    "from matplotlib import pyplot as plt"
   ]
  },
  {
   "cell_type": "code",
   "execution_count": 10,
   "id": "7631aad4-465b-4b18-80e9-1d731621201c",
   "metadata": {},
   "outputs": [
    {
     "data": {
      "text/plain": [
       "[<matplotlib.lines.Line2D at 0x12ff2d330>]"
      ]
     },
     "execution_count": 10,
     "metadata": {},
     "output_type": "execute_result"
    },
    {
     "data": {
      "image/png": "[encoded data removed]",
      "text/plain": [
       "<Figure size 432x288 with 1 Axes>"
      ]
     },
     "metadata": {
      "needs_background": "light"
     },
     "output_type": "display_data"
    }
   ],
   "source": [
    "plt.plot(ratio)"
   ]
  }
 ],
 "metadata": {
  "kernelspec": {
   "display_name": "Python 3 (ipykernel)",
   "language": "python",
   "name": "python3"
  },
  "language_info": {
   "codemirror_mode": {
    "name": "ipython",
    "version": 3
   },
   "file_extension": ".py",
   "mimetype": "text/x-python",
   "name": "python",
   "nbconvert_exporter": "python",
   "pygments_lexer": "ipython3",
   "version": "3.10.2"
  }
 },
 "nbformat": 4,
 "nbformat_minor": 5
}
