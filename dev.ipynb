{
 "cells": [
  {
   "cell_type": "code",
   "execution_count": 1,
   "metadata": {},
   "outputs": [],
   "source": [
    "import numpy as np\n",
    "from matplotlib import pyplot as plt"
   ]
  },
  {
   "cell_type": "code",
   "execution_count": 14,
   "metadata": {},
   "outputs": [
    {
     "data": {
      "text/plain": [
       "(5, 1000)"
      ]
     },
     "execution_count": 14,
     "metadata": {},
     "output_type": "execute_result"
    }
   ],
   "source": [
    "X = np.array([np.random.normal(size=1000) for i in range(5)])\n",
    "X.shape"
   ]
  },
  {
   "cell_type": "markdown",
   "metadata": {},
   "source": [
    "## determining the integrated time stop condition\n",
    "\n",
    "Given the current time $T$, assume we have reached the stopping condition, $T>A\\tau$, $A=1000$ according to Sokal, or $A=50$ if you are using emcee. Therefore we can simply test if $\\tau' = T/A$ is good enough. So we should simply verify that if \n",
    "\n",
    "$$\n",
    "\\tau' \\ge 5 \\hat{\\tau_f}(\\tau') = 1 + 2\\sum_1^{\\tau'} \\hat{\\rho}_f(i)\n",
    "$$\n",
    "\n",
    "In case it is indeed good, then we can assert that $\\tau = \\argmin_{t} t \\ge 5 \\hat{\\tau_f}(t) $\n",
    "\n"
   ]
  },
  {
   "cell_type": "code",
   "execution_count": 16,
   "metadata": {},
   "outputs": [
    {
     "data": {
      "text/plain": [
       "array([0.90760709, 1.08447564, 1.04295029, 0.99312163, 0.97184535])"
      ]
     },
     "execution_count": 16,
     "metadata": {},
     "output_type": "execute_result"
    }
   ],
   "source": [
    "np.linalg.eigvals(np.corrcoef(X))"
   ]
  }
 ],
 "metadata": {
  "interpreter": {
   "hash": "e7b069d7422492e5727182a0e1782c5eb57bd1588256e5d256bb3ae36d05dae9"
  },
  "kernelspec": {
   "display_name": "Python 3.10.2 ('work')",
   "language": "python",
   "name": "python3"
  },
  "language_info": {
   "codemirror_mode": {
    "name": "ipython",
    "version": 3
   },
   "file_extension": ".py",
   "mimetype": "text/x-python",
   "name": "python",
   "nbconvert_exporter": "python",
   "pygments_lexer": "ipython3",
   "version": "3.10.2"
  },
  "orig_nbformat": 4
 },
 "nbformat": 4,
 "nbformat_minor": 2
}
