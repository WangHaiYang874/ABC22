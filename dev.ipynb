{
 "cells": [
  {
   "cell_type": "code",
   "execution_count": null,
   "metadata": {},
   "outputs": [
    {
     "ename": "",
     "evalue": "",
     "output_type": "error",
     "traceback": [
      "\u001b[1;31mFailed to start the Kernel. \n",
      "The 'python3104jvsc74a57bd04ef73ebb8c6bf4417ef67e5e59e1d5056975f98c8de7a8fed064bf6fc2f47c64' kernel is not available. Please pick another suitable kernel instead, or install that kernel. \n",
      "View Jupyter <a href='command:jupyter.viewOutput'>log</a> for further details."
     ]
    }
   ],
   "source": [
    "import numpy as np\n",
    "from matplotlib import pyplot as plt"
   ]
  },
  {
   "cell_type": "code",
   "execution_count": 2,
   "metadata": {},
   "outputs": [],
   "source": [
    "class A:\n",
    "    def __init__(self):\n",
    "        self.a = 5\n",
    "        \n",
    "    def a(self):\n",
    "        return 'A'"
   ]
  },
  {
   "cell_type": "code",
   "execution_count": 14,
   "metadata": {},
   "outputs": [
    {
     "data": {
      "text/plain": [
       "(5, 1000)"
      ]
     },
     "execution_count": 14,
     "metadata": {},
     "output_type": "execute_result"
    }
   ],
   "source": [
    "X = np.array([np.random.normal(size=1000) for i in range(5)])\n",
    "X.shape"
   ]
  },
  {
   "cell_type": "markdown",
   "metadata": {},
   "source": [
    "## determining the integrated time stop condition\n",
    "\n",
    "Given the current time $T$, assume we have reached the stopping condition, $T>A\\tau$, $A=1000$ according to Sokal, or $A=50$ if you are using emcee. Therefore we can simply test if $\\tau' = T/A$ is good enough. So we should simply verify that if \n",
    "\n",
    "$$\n",
    "\\tau' \\ge 5 \\hat{\\tau_f}(\\tau') = 1 + 2\\sum_1^{\\tau'} \\hat{\\rho}_f(i)\n",
    "$$\n",
    "\n",
    "In case it is indeed good, then we can assert that $\\tau = \\argmin_{t} t \\ge 5 \\hat{\\tau_f}(t) $\n",
    "\n"
   ]
  },
  {
   "cell_type": "code",
   "execution_count": 16,
   "metadata": {},
   "outputs": [
    {
     "data": {
      "text/plain": [
       "array([0.90760709, 1.08447564, 1.04295029, 0.99312163, 0.97184535])"
      ]
     },
     "execution_count": 16,
     "metadata": {},
     "output_type": "execute_result"
    }
   ],
   "source": [
    "np.linalg.eigvals(np.corrcoef(X))"
   ]
  },
  {
   "cell_type": "code",
   "execution_count": 8,
   "metadata": {},
   "outputs": [],
   "source": [
    "from scipy.stats import expon\n",
    "import numpy as np"
   ]
  },
  {
   "cell_type": "code",
   "execution_count": 9,
   "metadata": {},
   "outputs": [
    {
     "data": {
      "text/plain": [
       "-0.6"
      ]
     },
     "execution_count": 9,
     "metadata": {},
     "output_type": "execute_result"
    }
   ],
   "source": [
    "expon.logpdf(0.6)"
   ]
  },
  {
   "cell_type": "code",
   "execution_count": 10,
   "metadata": {},
   "outputs": [],
   "source": [
    "A = np.arange(16).reshape((8,2))"
   ]
  },
  {
   "cell_type": "code",
   "execution_count": 16,
   "metadata": {},
   "outputs": [
    {
     "data": {
      "text/plain": [
       "array([[0.        , 1.        ],\n",
       "       [0.4       , 0.6       ],\n",
       "       [0.44444444, 0.55555556],\n",
       "       [0.46153846, 0.53846154],\n",
       "       [0.47058824, 0.52941176],\n",
       "       [0.47619048, 0.52380952],\n",
       "       [0.48      , 0.52      ],\n",
       "       [0.48275862, 0.51724138]])"
      ]
     },
     "execution_count": 16,
     "metadata": {},
     "output_type": "execute_result"
    }
   ],
   "source": [
    "A/A.sum(axis=1)[:,np.newaxis]"
   ]
  }
 ],
 "metadata": {
  "kernelspec": {
   "display_name": "Python 3.10.5 ('abc')",
   "language": "python",
   "name": "python3"
  },
  "language_info": {
   "codemirror_mode": {
    "name": "ipython",
    "version": 3
   },
   "file_extension": ".py",
   "mimetype": "text/x-python",
   "name": "python",
   "nbconvert_exporter": "python",
   "pygments_lexer": "ipython3",
   "version": "3.10.5"
  },
  "orig_nbformat": 4,
  "vscode": {
   "interpreter": {
    "hash": "6e32b162a0c035b0eccde6792a9659f185df5e56e548400e0cd96ee46fd66ebd"
   }
  }
 },
 "nbformat": 4,
 "nbformat_minor": 2
}
